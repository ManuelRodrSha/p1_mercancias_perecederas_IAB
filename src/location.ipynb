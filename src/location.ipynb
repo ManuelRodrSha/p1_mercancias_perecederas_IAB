{
 "cells": [
  {
   "cell_type": "code",
   "execution_count": 1,
   "id": "72e34980-2b90-44ec-8432-6bc170e31afb",
   "metadata": {},
   "outputs": [],
   "source": [
    "import pandas as pd"
   ]
  },
  {
   "cell_type": "code",
   "execution_count": 2,
   "id": "1c7372ee-f007-4651-ab13-95474a566572",
   "metadata": {},
   "outputs": [
    {
     "data": {
      "text/html": [
       "<div>\n",
       "<style scoped>\n",
       "    .dataframe tbody tr th:only-of-type {\n",
       "        vertical-align: middle;\n",
       "    }\n",
       "\n",
       "    .dataframe tbody tr th {\n",
       "        vertical-align: top;\n",
       "    }\n",
       "\n",
       "    .dataframe thead th {\n",
       "        text-align: right;\n",
       "    }\n",
       "</style>\n",
       "<table border=\"1\" class=\"dataframe\">\n",
       "  <thead>\n",
       "    <tr style=\"text-align: right;\">\n",
       "      <th></th>\n",
       "      <th>Cliente</th>\n",
       "      <th>Latitud</th>\n",
       "      <th>Longitud</th>\n",
       "    </tr>\n",
       "  </thead>\n",
       "  <tbody>\n",
       "    <tr>\n",
       "      <th>0</th>\n",
       "      <td>Cliente_1</td>\n",
       "      <td>40.402828</td>\n",
       "      <td>-3.696878</td>\n",
       "    </tr>\n",
       "    <tr>\n",
       "      <th>1</th>\n",
       "      <td>Cliente_2</td>\n",
       "      <td>40.455820</td>\n",
       "      <td>-3.700350</td>\n",
       "    </tr>\n",
       "    <tr>\n",
       "      <th>2</th>\n",
       "      <td>Cliente_3</td>\n",
       "      <td>40.471840</td>\n",
       "      <td>-3.708079</td>\n",
       "    </tr>\n",
       "    <tr>\n",
       "      <th>3</th>\n",
       "      <td>Cliente_4</td>\n",
       "      <td>40.404688</td>\n",
       "      <td>-3.706262</td>\n",
       "    </tr>\n",
       "    <tr>\n",
       "      <th>4</th>\n",
       "      <td>Cliente_5</td>\n",
       "      <td>40.371990</td>\n",
       "      <td>-3.695056</td>\n",
       "    </tr>\n",
       "  </tbody>\n",
       "</table>\n",
       "</div>"
      ],
      "text/plain": [
       "     Cliente    Latitud  Longitud\n",
       "0  Cliente_1  40.402828 -3.696878\n",
       "1  Cliente_2  40.455820 -3.700350\n",
       "2  Cliente_3  40.471840 -3.708079\n",
       "3  Cliente_4  40.404688 -3.706262\n",
       "4  Cliente_5  40.371990 -3.695056"
      ]
     },
     "execution_count": 2,
     "metadata": {},
     "output_type": "execute_result"
    }
   ],
   "source": [
    "df_location = pd.read_excel(\"../dataset/df_location.xlsx\")\n",
    "df_location.head(5)"
   ]
  },
  {
   "cell_type": "code",
   "execution_count": 3,
   "id": "3f2329dd-705c-4ff4-b558-abdefbbc238b",
   "metadata": {},
   "outputs": [
    {
     "data": {
      "text/plain": [
       "Cliente     0\n",
       "Latitud     0\n",
       "Longitud    0\n",
       "dtype: int64"
      ]
     },
     "execution_count": 3,
     "metadata": {},
     "output_type": "execute_result"
    }
   ],
   "source": [
    "df_location.isna().sum()"
   ]
  },
  {
   "cell_type": "code",
   "execution_count": 4,
   "id": "db6a59e4-b3dc-4bc0-90c2-01432ac858b7",
   "metadata": {},
   "outputs": [
    {
     "data": {
      "text/plain": [
       "Cliente      object\n",
       "Latitud     float64\n",
       "Longitud    float64\n",
       "dtype: object"
      ]
     },
     "execution_count": 4,
     "metadata": {},
     "output_type": "execute_result"
    }
   ],
   "source": [
    "df_location.dtypes"
   ]
  },
  {
   "cell_type": "code",
   "execution_count": 5,
   "id": "c3336d52-4cbd-4e1d-aa91-6f4d7ed0f085",
   "metadata": {},
   "outputs": [
    {
     "data": {
      "text/html": [
       "<div>\n",
       "<style scoped>\n",
       "    .dataframe tbody tr th:only-of-type {\n",
       "        vertical-align: middle;\n",
       "    }\n",
       "\n",
       "    .dataframe tbody tr th {\n",
       "        vertical-align: top;\n",
       "    }\n",
       "\n",
       "    .dataframe thead th {\n",
       "        text-align: right;\n",
       "    }\n",
       "</style>\n",
       "<table border=\"1\" class=\"dataframe\">\n",
       "  <thead>\n",
       "    <tr style=\"text-align: right;\">\n",
       "      <th></th>\n",
       "      <th>count</th>\n",
       "      <th>mean</th>\n",
       "      <th>std</th>\n",
       "      <th>min</th>\n",
       "      <th>25%</th>\n",
       "      <th>50%</th>\n",
       "      <th>75%</th>\n",
       "      <th>max</th>\n",
       "    </tr>\n",
       "  </thead>\n",
       "  <tbody>\n",
       "    <tr>\n",
       "      <th>Latitud</th>\n",
       "      <td>21.0</td>\n",
       "      <td>40.419163</td>\n",
       "      <td>0.040199</td>\n",
       "      <td>40.334024</td>\n",
       "      <td>40.389637</td>\n",
       "      <td>40.409083</td>\n",
       "      <td>40.446872</td>\n",
       "      <td>40.512445</td>\n",
       "    </tr>\n",
       "    <tr>\n",
       "      <th>Longitud</th>\n",
       "      <td>21.0</td>\n",
       "      <td>-3.693152</td>\n",
       "      <td>0.045856</td>\n",
       "      <td>-3.814595</td>\n",
       "      <td>-3.708079</td>\n",
       "      <td>-3.700350</td>\n",
       "      <td>-3.677859</td>\n",
       "      <td>-3.586515</td>\n",
       "    </tr>\n",
       "  </tbody>\n",
       "</table>\n",
       "</div>"
      ],
      "text/plain": [
       "          count       mean       std        min        25%        50%  \\\n",
       "Latitud    21.0  40.419163  0.040199  40.334024  40.389637  40.409083   \n",
       "Longitud   21.0  -3.693152  0.045856  -3.814595  -3.708079  -3.700350   \n",
       "\n",
       "                75%        max  \n",
       "Latitud   40.446872  40.512445  \n",
       "Longitud  -3.677859  -3.586515  "
      ]
     },
     "execution_count": 5,
     "metadata": {},
     "output_type": "execute_result"
    }
   ],
   "source": [
    "df_location.describe().T"
   ]
  },
  {
   "cell_type": "code",
   "execution_count": null,
   "id": "c709db8a-a055-4da1-a4c0-70af550767d5",
   "metadata": {},
   "outputs": [],
   "source": []
  }
 ],
 "metadata": {
  "kernelspec": {
   "display_name": "Python 3 (ipykernel)",
   "language": "python",
   "name": "python3"
  },
  "language_info": {
   "codemirror_mode": {
    "name": "ipython",
    "version": 3
   },
   "file_extension": ".py",
   "mimetype": "text/x-python",
   "name": "python",
   "nbconvert_exporter": "python",
   "pygments_lexer": "ipython3",
   "version": "3.13.0"
  }
 },
 "nbformat": 4,
 "nbformat_minor": 5
}
