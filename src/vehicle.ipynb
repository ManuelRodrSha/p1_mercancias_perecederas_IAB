{
 "cells": [
  {
   "cell_type": "code",
   "execution_count": 1,
   "id": "72e34980-2b90-44ec-8432-6bc170e31afb",
   "metadata": {},
   "outputs": [],
   "source": [
    "import pandas as pd"
   ]
  },
  {
   "cell_type": "code",
   "execution_count": 2,
   "id": "1c7372ee-f007-4651-ab13-95474a566572",
   "metadata": {},
   "outputs": [
    {
     "data": {
      "text/html": [
       "<div>\n",
       "<style scoped>\n",
       "    .dataframe tbody tr th:only-of-type {\n",
       "        vertical-align: middle;\n",
       "    }\n",
       "\n",
       "    .dataframe tbody tr th {\n",
       "        vertical-align: top;\n",
       "    }\n",
       "\n",
       "    .dataframe thead th {\n",
       "        text-align: right;\n",
       "    }\n",
       "</style>\n",
       "<table border=\"1\" class=\"dataframe\">\n",
       "  <thead>\n",
       "    <tr style=\"text-align: right;\">\n",
       "      <th></th>\n",
       "      <th>vehiculo_id</th>\n",
       "      <th>capacidad_kg</th>\n",
       "      <th>costo_km</th>\n",
       "      <th>autonomia_km</th>\n",
       "    </tr>\n",
       "  </thead>\n",
       "  <tbody>\n",
       "    <tr>\n",
       "      <th>0</th>\n",
       "      <td>1</td>\n",
       "      <td>2026</td>\n",
       "      <td>0.20</td>\n",
       "      <td>603</td>\n",
       "    </tr>\n",
       "    <tr>\n",
       "      <th>1</th>\n",
       "      <td>2</td>\n",
       "      <td>4362</td>\n",
       "      <td>0.14</td>\n",
       "      <td>630</td>\n",
       "    </tr>\n",
       "    <tr>\n",
       "      <th>2</th>\n",
       "      <td>3</td>\n",
       "      <td>4881</td>\n",
       "      <td>0.20</td>\n",
       "      <td>664</td>\n",
       "    </tr>\n",
       "    <tr>\n",
       "      <th>3</th>\n",
       "      <td>4</td>\n",
       "      <td>3321</td>\n",
       "      <td>0.19</td>\n",
       "      <td>514</td>\n",
       "    </tr>\n",
       "    <tr>\n",
       "      <th>4</th>\n",
       "      <td>5</td>\n",
       "      <td>10000</td>\n",
       "      <td>0.32</td>\n",
       "      <td>350</td>\n",
       "    </tr>\n",
       "  </tbody>\n",
       "</table>\n",
       "</div>"
      ],
      "text/plain": [
       "   vehiculo_id  capacidad_kg  costo_km  autonomia_km\n",
       "0            1          2026      0.20           603\n",
       "1            2          4362      0.14           630\n",
       "2            3          4881      0.20           664\n",
       "3            4          3321      0.19           514\n",
       "4            5         10000      0.32           350"
      ]
     },
     "execution_count": 2,
     "metadata": {},
     "output_type": "execute_result"
    }
   ],
   "source": [
    "df_vehicle = pd.read_excel(\"../dataset/df_vehicle.xlsx\")\n",
    "df_vehicle.head(5)"
   ]
  },
  {
   "cell_type": "code",
   "execution_count": 3,
   "id": "3f2329dd-705c-4ff4-b558-abdefbbc238b",
   "metadata": {},
   "outputs": [
    {
     "data": {
      "text/plain": [
       "vehiculo_id     0\n",
       "capacidad_kg    0\n",
       "costo_km        0\n",
       "autonomia_km    0\n",
       "dtype: int64"
      ]
     },
     "execution_count": 3,
     "metadata": {},
     "output_type": "execute_result"
    }
   ],
   "source": [
    "df_vehicle.isna().sum()"
   ]
  },
  {
   "cell_type": "code",
   "execution_count": 4,
   "id": "db6a59e4-b3dc-4bc0-90c2-01432ac858b7",
   "metadata": {},
   "outputs": [
    {
     "data": {
      "text/plain": [
       "vehiculo_id       int64\n",
       "capacidad_kg      int64\n",
       "costo_km        float64\n",
       "autonomia_km      int64\n",
       "dtype: object"
      ]
     },
     "execution_count": 4,
     "metadata": {},
     "output_type": "execute_result"
    }
   ],
   "source": [
    "df_vehicle.dtypes"
   ]
  },
  {
   "cell_type": "code",
   "execution_count": 5,
   "id": "c3336d52-4cbd-4e1d-aa91-6f4d7ed0f085",
   "metadata": {},
   "outputs": [
    {
     "data": {
      "text/html": [
       "<div>\n",
       "<style scoped>\n",
       "    .dataframe tbody tr th:only-of-type {\n",
       "        vertical-align: middle;\n",
       "    }\n",
       "\n",
       "    .dataframe tbody tr th {\n",
       "        vertical-align: top;\n",
       "    }\n",
       "\n",
       "    .dataframe thead th {\n",
       "        text-align: right;\n",
       "    }\n",
       "</style>\n",
       "<table border=\"1\" class=\"dataframe\">\n",
       "  <thead>\n",
       "    <tr style=\"text-align: right;\">\n",
       "      <th></th>\n",
       "      <th>count</th>\n",
       "      <th>mean</th>\n",
       "      <th>std</th>\n",
       "      <th>min</th>\n",
       "      <th>25%</th>\n",
       "      <th>50%</th>\n",
       "      <th>75%</th>\n",
       "      <th>max</th>\n",
       "    </tr>\n",
       "  </thead>\n",
       "  <tbody>\n",
       "    <tr>\n",
       "      <th>vehiculo_id</th>\n",
       "      <td>6.0</td>\n",
       "      <td>3.500000</td>\n",
       "      <td>1.870829</td>\n",
       "      <td>1.00</td>\n",
       "      <td>2.2500</td>\n",
       "      <td>3.500</td>\n",
       "      <td>4.75</td>\n",
       "      <td>6.00</td>\n",
       "    </tr>\n",
       "    <tr>\n",
       "      <th>capacidad_kg</th>\n",
       "      <td>6.0</td>\n",
       "      <td>4619.833333</td>\n",
       "      <td>2818.453577</td>\n",
       "      <td>2026.00</td>\n",
       "      <td>3177.0000</td>\n",
       "      <td>3841.500</td>\n",
       "      <td>4751.25</td>\n",
       "      <td>10000.00</td>\n",
       "    </tr>\n",
       "    <tr>\n",
       "      <th>costo_km</th>\n",
       "      <td>6.0</td>\n",
       "      <td>0.198333</td>\n",
       "      <td>0.065853</td>\n",
       "      <td>0.14</td>\n",
       "      <td>0.1525</td>\n",
       "      <td>0.195</td>\n",
       "      <td>0.20</td>\n",
       "      <td>0.32</td>\n",
       "    </tr>\n",
       "    <tr>\n",
       "      <th>autonomia_km</th>\n",
       "      <td>6.0</td>\n",
       "      <td>592.000000</td>\n",
       "      <td>148.995302</td>\n",
       "      <td>350.00</td>\n",
       "      <td>536.2500</td>\n",
       "      <td>616.500</td>\n",
       "      <td>655.50</td>\n",
       "      <td>791.00</td>\n",
       "    </tr>\n",
       "  </tbody>\n",
       "</table>\n",
       "</div>"
      ],
      "text/plain": [
       "              count         mean          std      min        25%       50%  \\\n",
       "vehiculo_id     6.0     3.500000     1.870829     1.00     2.2500     3.500   \n",
       "capacidad_kg    6.0  4619.833333  2818.453577  2026.00  3177.0000  3841.500   \n",
       "costo_km        6.0     0.198333     0.065853     0.14     0.1525     0.195   \n",
       "autonomia_km    6.0   592.000000   148.995302   350.00   536.2500   616.500   \n",
       "\n",
       "                  75%       max  \n",
       "vehiculo_id      4.75      6.00  \n",
       "capacidad_kg  4751.25  10000.00  \n",
       "costo_km         0.20      0.32  \n",
       "autonomia_km   655.50    791.00  "
      ]
     },
     "execution_count": 5,
     "metadata": {},
     "output_type": "execute_result"
    }
   ],
   "source": [
    "df_vehicle.describe().T"
   ]
  },
  {
   "cell_type": "code",
   "execution_count": null,
   "id": "c709db8a-a055-4da1-a4c0-70af550767d5",
   "metadata": {},
   "outputs": [],
   "source": []
  }
 ],
 "metadata": {
  "kernelspec": {
   "display_name": "Python 3 (ipykernel)",
   "language": "python",
   "name": "python3"
  },
  "language_info": {
   "codemirror_mode": {
    "name": "ipython",
    "version": 3
   },
   "file_extension": ".py",
   "mimetype": "text/x-python",
   "name": "python",
   "nbconvert_exporter": "python",
   "pygments_lexer": "ipython3",
   "version": "3.13.0"
  }
 },
 "nbformat": 4,
 "nbformat_minor": 5
}
