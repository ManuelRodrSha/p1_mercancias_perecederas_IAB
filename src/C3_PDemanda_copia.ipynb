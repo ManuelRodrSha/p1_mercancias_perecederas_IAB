{
 "cells": [
  {
   "cell_type": "code",
   "execution_count": 39,
   "metadata": {},
   "outputs": [],
   "source": [
    "import pandas as pd\n",
    "import numpy as np\n",
    "from statsmodels.tsa.seasonal import seasonal_decompose\n",
    "import matplotlib.pyplot as plt\n",
    "from statsmodels.tsa.statespace.sarimax import SARIMAX\n"
   ]
  },
  {
   "cell_type": "code",
   "execution_count": 23,
   "metadata": {},
   "outputs": [],
   "source": [
    "# Cargar los DataFrames desde archivos Excel\n",
    "path_df_location = \"../dataset/df_historic_order_demand.xlsx\"\n",
    "df_historic_order_demand = pd.read_excel(path_df_location)\n",
    "\n",
    "path_df_location = \"../dataset/df_location.xlsx\"\n",
    "df_location = pd.read_excel(path_df_location)\n",
    "\n",
    "path_df_vehicle = \"../dataset/df_vehicle.xlsx\"\n",
    "df_vehicle = pd.read_excel(path_df_vehicle)\n",
    "\n",
    "path_df_orders = \"../dataset/df_orders.xlsx\"\n",
    "df_orders = pd.read_excel(path_df_orders)\n",
    "\n",
    "path_df_distance_km = \"../dataset/df_distance_km.xlsx\"\n",
    "df_distance_km = pd.read_excel(path_df_distance_km)"
   ]
  },
  {
   "cell_type": "code",
   "execution_count": 24,
   "metadata": {},
   "outputs": [
    {
     "data": {
      "text/html": [
       "<div>\n",
       "<style scoped>\n",
       "    .dataframe tbody tr th:only-of-type {\n",
       "        vertical-align: middle;\n",
       "    }\n",
       "\n",
       "    .dataframe tbody tr th {\n",
       "        vertical-align: top;\n",
       "    }\n",
       "\n",
       "    .dataframe thead th {\n",
       "        text-align: right;\n",
       "    }\n",
       "</style>\n",
       "<table border=\"1\" class=\"dataframe\">\n",
       "  <thead>\n",
       "    <tr style=\"text-align: right;\">\n",
       "      <th></th>\n",
       "      <th>cliente</th>\n",
       "      <th>mes_anio</th>\n",
       "      <th>order_demand</th>\n",
       "    </tr>\n",
       "  </thead>\n",
       "  <tbody>\n",
       "    <tr>\n",
       "      <th>0</th>\n",
       "      <td>Cliente_1</td>\n",
       "      <td>12-2024</td>\n",
       "      <td>909</td>\n",
       "    </tr>\n",
       "    <tr>\n",
       "      <th>1</th>\n",
       "      <td>Cliente_2</td>\n",
       "      <td>12-2024</td>\n",
       "      <td>959</td>\n",
       "    </tr>\n",
       "    <tr>\n",
       "      <th>2</th>\n",
       "      <td>Cliente_3</td>\n",
       "      <td>12-2024</td>\n",
       "      <td>960</td>\n",
       "    </tr>\n",
       "    <tr>\n",
       "      <th>3</th>\n",
       "      <td>Cliente_4</td>\n",
       "      <td>12-2024</td>\n",
       "      <td>980</td>\n",
       "    </tr>\n",
       "    <tr>\n",
       "      <th>4</th>\n",
       "      <td>Cliente_5</td>\n",
       "      <td>12-2024</td>\n",
       "      <td>979</td>\n",
       "    </tr>\n",
       "  </tbody>\n",
       "</table>\n",
       "</div>"
      ],
      "text/plain": [
       "     cliente mes_anio  order_demand\n",
       "0  Cliente_1  12-2024           909\n",
       "1  Cliente_2  12-2024           959\n",
       "2  Cliente_3  12-2024           960\n",
       "3  Cliente_4  12-2024           980\n",
       "4  Cliente_5  12-2024           979"
      ]
     },
     "execution_count": 24,
     "metadata": {},
     "output_type": "execute_result"
    }
   ],
   "source": [
    "df_orders.head()"
   ]
  },
  {
   "cell_type": "code",
   "execution_count": 25,
   "metadata": {},
   "outputs": [
    {
     "name": "stdout",
     "output_type": "stream",
     "text": [
      "Primeras filas del DataFrame:\n",
      "     cliente mes_anio  order_demand\n",
      "0  Cliente_1  12-2020         857.0\n",
      "1  Cliente_2  12-2020         941.0\n",
      "2  Cliente_3  12-2020         878.0\n",
      "3  Cliente_4  12-2020         949.0\n",
      "4  Cliente_5  12-2020         932.0\n",
      "\n",
      "Información del DataFrame:\n",
      "<class 'pandas.core.frame.DataFrame'>\n",
      "RangeIndex: 980 entries, 0 to 979\n",
      "Data columns (total 3 columns):\n",
      " #   Column        Non-Null Count  Dtype  \n",
      "---  ------        --------------  -----  \n",
      " 0   cliente       980 non-null    object \n",
      " 1   mes_anio      980 non-null    object \n",
      " 2   order_demand  932 non-null    float64\n",
      "dtypes: float64(1), object(2)\n",
      "memory usage: 23.1+ KB\n",
      "None\n",
      "\n",
      "Valores nulos por columna:\n",
      "cliente          0\n",
      "mes_anio         0\n",
      "order_demand    48\n",
      "dtype: int64\n"
     ]
    }
   ],
   "source": [
    "# Explorar la estructura del DataFrame\n",
    "print(\"Primeras filas del DataFrame:\")\n",
    "print(df_historic_order_demand.head())\n",
    "\n",
    "print(\"\\nInformación del DataFrame:\")\n",
    "print(df_historic_order_demand.info())\n",
    "\n",
    "# Verificar si hay valores nulos\n",
    "print(\"\\nValores nulos por columna:\")\n",
    "print(df_historic_order_demand.isnull().sum())\n"
   ]
  },
  {
   "cell_type": "code",
   "execution_count": 31,
   "metadata": {},
   "outputs": [
    {
     "name": "stdout",
     "output_type": "stream",
     "text": [
      "\n",
      "Valores nulos en 'mes_anio_dia':\n",
      "0\n"
     ]
    }
   ],
   "source": [
    "# Crear una nueva columna 'mes_anio_dia' con los datos en formato datetime\n",
    "df_historic_order_demand['mes_anio_dia'] = pd.to_datetime(df_historic_order_demand['mes_anio'], format='%m-%Y', errors='coerce')\n",
    "\n",
    "# Verificar si hay valores nulos en la nueva columna\n",
    "print(\"\\nValores nulos en 'mes_anio_dia':\")\n",
    "print(df_historic_order_demand['mes_anio_dia'].isnull().sum())"
   ]
  },
  {
   "cell_type": "code",
   "execution_count": 34,
   "metadata": {},
   "outputs": [
    {
     "name": "stdout",
     "output_type": "stream",
     "text": [
      "Registros duplicados:\n",
      "0\n",
      "0\n"
     ]
    }
   ],
   "source": [
    "# Verificar si hay duplicados basados en 'cliente' y 'mes_anio'\n",
    "print(\"Registros duplicados:\")\n",
    "print(df_historic_order_demand.duplicated(subset=['cliente', 'mes_anio_dia']).sum())"
   ]
  },
  {
   "cell_type": "code",
   "execution_count": 35,
   "metadata": {},
   "outputs": [
    {
     "name": "stdout",
     "output_type": "stream",
     "text": [
      "Datos preprocesados:\n",
      "     cliente   mes_anio  order_demand mes_anio_dia\n",
      "0  Cliente_1 2020-12-01         857.0   2020-12-01\n",
      "1  Cliente_2 2020-12-01         941.0   2020-12-01\n",
      "2  Cliente_3 2020-12-01         878.0   2020-12-01\n",
      "3  Cliente_4 2020-12-01         949.0   2020-12-01\n",
      "4  Cliente_5 2020-12-01         932.0   2020-12-01\n"
     ]
    }
   ],
   "source": [
    "# Imprimir una muestra para verificar el resultado\n",
    "print(\"Datos preprocesados:\")\n",
    "print(df_historic_order_demand.head())"
   ]
  },
  {
   "cell_type": "code",
   "execution_count": 38,
   "metadata": {},
   "outputs": [
    {
     "name": "stdout",
     "output_type": "stream",
     "text": [
      "     cliente   mes_anio  order_demand mes_anio_dia\n",
      "0  Cliente_1 2020-12-01         857.0   2020-12-01\n",
      "1  Cliente_1 2021-01-01         768.0   2021-01-01\n",
      "2  Cliente_1 2021-02-01         635.0   2021-02-01\n",
      "3  Cliente_1 2021-03-01         631.0   2021-03-01\n",
      "4  Cliente_1 2021-04-01         589.0   2021-04-01\n"
     ]
    }
   ],
   "source": [
    "# Ordenar primero por cliente y luego por mes_anio_dia\n",
    "df_historic_order_demand = df_historic_order_demand.sort_values(by=['cliente', 'mes_anio_dia']).reset_index(drop=True)\n",
    "\n",
    "# Verificar la estructura después de ordenar\n",
    "print(df_historic_order_demand.head())  # Muestra las primeras filas para confirmar"
   ]
  },
  {
   "cell_type": "code",
   "execution_count": 41,
   "metadata": {},
   "outputs": [
    {
     "name": "stdout",
     "output_type": "stream",
     "text": [
      "\n",
      "Valores nulos en 'order_demand':\n",
      "48\n",
      "\n",
      "Filas con valores nulos en 'order_demand':\n",
      "        cliente   mes_anio  order_demand mes_anio_dia\n",
      "55   Cliente_10 2021-06-01           NaN   2021-06-01\n",
      "65   Cliente_10 2022-04-01           NaN   2022-04-01\n",
      "89   Cliente_10 2024-04-01           NaN   2024-04-01\n",
      "92   Cliente_10 2024-07-01           NaN   2024-07-01\n",
      "109  Cliente_11 2021-11-01           NaN   2021-11-01\n",
      "124  Cliente_11 2023-02-01           NaN   2023-02-01\n",
      "128  Cliente_11 2023-06-01           NaN   2023-06-01\n",
      "140  Cliente_11 2024-06-01           NaN   2024-06-01\n",
      "169  Cliente_12 2022-10-01           NaN   2022-10-01\n",
      "173  Cliente_12 2023-02-01           NaN   2023-02-01\n",
      "205  Cliente_13 2021-09-01           NaN   2021-09-01\n",
      "211  Cliente_13 2022-03-01           NaN   2022-03-01\n",
      "229  Cliente_13 2023-09-01           NaN   2023-09-01\n",
      "234  Cliente_13 2024-02-01           NaN   2024-02-01\n",
      "253  Cliente_14 2021-08-01           NaN   2021-08-01\n",
      "254  Cliente_14 2021-09-01           NaN   2021-09-01\n",
      "275  Cliente_14 2023-06-01           NaN   2023-06-01\n",
      "308  Cliente_15 2022-02-01           NaN   2022-02-01\n",
      "322  Cliente_15 2023-04-01           NaN   2023-04-01\n",
      "350  Cliente_16 2021-07-01           NaN   2021-07-01\n",
      "359  Cliente_16 2022-04-01           NaN   2022-04-01\n",
      "402  Cliente_17 2021-10-01           NaN   2021-10-01\n",
      "474  Cliente_18 2023-09-01           NaN   2023-09-01\n",
      "541   Cliente_2 2021-02-01           NaN   2021-02-01\n",
      "542   Cliente_2 2021-03-01           NaN   2021-03-01\n",
      "543   Cliente_2 2021-04-01           NaN   2021-04-01\n",
      "550   Cliente_2 2021-11-01           NaN   2021-11-01\n",
      "558   Cliente_2 2022-07-01           NaN   2022-07-01\n",
      "561   Cliente_2 2022-10-01           NaN   2022-10-01\n",
      "572   Cliente_2 2023-09-01           NaN   2023-09-01\n",
      "575   Cliente_2 2023-12-01           NaN   2023-12-01\n",
      "604  Cliente_20 2022-04-01           NaN   2022-04-01\n",
      "620  Cliente_20 2023-08-01           NaN   2023-08-01\n",
      "649   Cliente_3 2021-12-01           NaN   2021-12-01\n",
      "652   Cliente_3 2022-03-01           NaN   2022-03-01\n",
      "665   Cliente_3 2023-04-01           NaN   2023-04-01\n",
      "675   Cliente_3 2024-02-01           NaN   2024-02-01\n",
      "740   Cliente_5 2021-05-01           NaN   2021-05-01\n",
      "774   Cliente_5 2024-03-01           NaN   2024-03-01\n",
      "794   Cliente_6 2021-10-01           NaN   2021-10-01\n",
      "802   Cliente_6 2022-06-01           NaN   2022-06-01\n",
      "824   Cliente_6 2024-04-01           NaN   2024-04-01\n",
      "827   Cliente_6 2024-07-01           NaN   2024-07-01\n",
      "855   Cliente_7 2022-10-01           NaN   2022-10-01\n",
      "894   Cliente_8 2021-12-01           NaN   2021-12-01\n",
      "917   Cliente_8 2023-11-01           NaN   2023-11-01\n",
      "922   Cliente_8 2024-04-01           NaN   2024-04-01\n",
      "937   Cliente_9 2021-06-01           NaN   2021-06-01\n"
     ]
    }
   ],
   "source": [
    "# Mostrar número de valores nulos en la columna 'order_demand'\n",
    "print(\"\\nValores nulos en 'order_demand':\")\n",
    "print(df_historic_order_demand['order_demand'].isnull().sum())\n",
    "\n",
    "# Mostrar las filas que contienen valores nulos en 'order_demand'\n",
    "print(\"\\nFilas con valores nulos en 'order_demand':\")\n",
    "print(df_historic_order_demand[df_historic_order_demand['order_demand'].isnull()])\n"
   ]
  },
  {
   "cell_type": "code",
   "execution_count": 40,
   "metadata": {},
   "outputs": [
    {
     "data": {
      "text/html": [
       "<div>\n",
       "<style scoped>\n",
       "    .dataframe tbody tr th:only-of-type {\n",
       "        vertical-align: middle;\n",
       "    }\n",
       "\n",
       "    .dataframe tbody tr th {\n",
       "        vertical-align: top;\n",
       "    }\n",
       "\n",
       "    .dataframe thead th {\n",
       "        text-align: right;\n",
       "    }\n",
       "</style>\n",
       "<table border=\"1\" class=\"dataframe\">\n",
       "  <thead>\n",
       "    <tr style=\"text-align: right;\">\n",
       "      <th></th>\n",
       "      <th>cliente</th>\n",
       "      <th>mes_anio</th>\n",
       "      <th>order_demand</th>\n",
       "      <th>mes_anio_dia</th>\n",
       "    </tr>\n",
       "  </thead>\n",
       "  <tbody>\n",
       "    <tr>\n",
       "      <th>0</th>\n",
       "      <td>Cliente_1</td>\n",
       "      <td>2020-12-01</td>\n",
       "      <td>857.0</td>\n",
       "      <td>2020-12-01</td>\n",
       "    </tr>\n",
       "    <tr>\n",
       "      <th>1</th>\n",
       "      <td>Cliente_1</td>\n",
       "      <td>2021-01-01</td>\n",
       "      <td>768.0</td>\n",
       "      <td>2021-01-01</td>\n",
       "    </tr>\n",
       "    <tr>\n",
       "      <th>2</th>\n",
       "      <td>Cliente_1</td>\n",
       "      <td>2021-02-01</td>\n",
       "      <td>635.0</td>\n",
       "      <td>2021-02-01</td>\n",
       "    </tr>\n",
       "    <tr>\n",
       "      <th>3</th>\n",
       "      <td>Cliente_1</td>\n",
       "      <td>2021-03-01</td>\n",
       "      <td>631.0</td>\n",
       "      <td>2021-03-01</td>\n",
       "    </tr>\n",
       "    <tr>\n",
       "      <th>4</th>\n",
       "      <td>Cliente_1</td>\n",
       "      <td>2021-04-01</td>\n",
       "      <td>589.0</td>\n",
       "      <td>2021-04-01</td>\n",
       "    </tr>\n",
       "    <tr>\n",
       "      <th>...</th>\n",
       "      <td>...</td>\n",
       "      <td>...</td>\n",
       "      <td>...</td>\n",
       "      <td>...</td>\n",
       "    </tr>\n",
       "    <tr>\n",
       "      <th>975</th>\n",
       "      <td>Cliente_9</td>\n",
       "      <td>2024-08-01</td>\n",
       "      <td>662.0</td>\n",
       "      <td>2024-08-01</td>\n",
       "    </tr>\n",
       "    <tr>\n",
       "      <th>976</th>\n",
       "      <td>Cliente_9</td>\n",
       "      <td>2024-09-01</td>\n",
       "      <td>637.0</td>\n",
       "      <td>2024-09-01</td>\n",
       "    </tr>\n",
       "    <tr>\n",
       "      <th>977</th>\n",
       "      <td>Cliente_9</td>\n",
       "      <td>2024-10-01</td>\n",
       "      <td>627.0</td>\n",
       "      <td>2024-10-01</td>\n",
       "    </tr>\n",
       "    <tr>\n",
       "      <th>978</th>\n",
       "      <td>Cliente_9</td>\n",
       "      <td>2024-11-01</td>\n",
       "      <td>613.0</td>\n",
       "      <td>2024-11-01</td>\n",
       "    </tr>\n",
       "    <tr>\n",
       "      <th>979</th>\n",
       "      <td>Cliente_9</td>\n",
       "      <td>2024-12-01</td>\n",
       "      <td>886.0</td>\n",
       "      <td>2024-12-01</td>\n",
       "    </tr>\n",
       "  </tbody>\n",
       "</table>\n",
       "<p>980 rows × 4 columns</p>\n",
       "</div>"
      ],
      "text/plain": [
       "       cliente   mes_anio  order_demand mes_anio_dia\n",
       "0    Cliente_1 2020-12-01         857.0   2020-12-01\n",
       "1    Cliente_1 2021-01-01         768.0   2021-01-01\n",
       "2    Cliente_1 2021-02-01         635.0   2021-02-01\n",
       "3    Cliente_1 2021-03-01         631.0   2021-03-01\n",
       "4    Cliente_1 2021-04-01         589.0   2021-04-01\n",
       "..         ...        ...           ...          ...\n",
       "975  Cliente_9 2024-08-01         662.0   2024-08-01\n",
       "976  Cliente_9 2024-09-01         637.0   2024-09-01\n",
       "977  Cliente_9 2024-10-01         627.0   2024-10-01\n",
       "978  Cliente_9 2024-11-01         613.0   2024-11-01\n",
       "979  Cliente_9 2024-12-01         886.0   2024-12-01\n",
       "\n",
       "[980 rows x 4 columns]"
      ]
     },
     "execution_count": 40,
     "metadata": {},
     "output_type": "execute_result"
    }
   ],
   "source": [
    "df_historic_order_demand"
   ]
  }
 ],
 "metadata": {
  "kernelspec": {
   "display_name": "Python 3",
   "language": "python",
   "name": "python3"
  },
  "language_info": {
   "codemirror_mode": {
    "name": "ipython",
    "version": 3
   },
   "file_extension": ".py",
   "mimetype": "text/x-python",
   "name": "python",
   "nbconvert_exporter": "python",
   "pygments_lexer": "ipython3",
   "version": "3.13.0"
  }
 },
 "nbformat": 4,
 "nbformat_minor": 2
}
