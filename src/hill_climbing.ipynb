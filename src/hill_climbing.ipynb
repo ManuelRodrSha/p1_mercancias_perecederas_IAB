{
 "cells": [
  {
   "cell_type": "code",
   "execution_count": 2,
   "metadata": {},
   "outputs": [],
   "source": [
    "import pandas as pd\n",
    "import numpy as np\n",
    "import random\n",
    "from sklearn.cluster import KMeans\n"
   ]
  },
  {
   "cell_type": "code",
   "execution_count": 3,
   "metadata": {},
   "outputs": [],
   "source": [
    "# Cargar los DataFrames desde archivos Excel\n",
    "path_df_location = \"../dataset/df_location.xlsx\"\n",
    "df_location = pd.read_excel(path_df_location)\n",
    "\n",
    "path_df_vehicle = \"../dataset/df_vehicle.xlsx\"\n",
    "df_vehicle = pd.read_excel(path_df_vehicle)\n",
    "\n",
    "path_df_orders = \"../dataset/df_orders.xlsx\"\n",
    "df_orders = pd.read_excel(path_df_orders)\n",
    "\n",
    "path_df_distance_km = \"../dataset/df_distance_km.xlsx\"\n",
    "df_distance_km = pd.read_excel(path_df_distance_km)\n"
   ]
  },
  {
   "cell_type": "code",
   "execution_count": 4,
   "metadata": {},
   "outputs": [],
   "source": [
    "#print(df_location['Cliente'].unique())\n",
    "#print(df_orders['cliente'].unique())\n",
    "#print(df_distance_km.columns)  # Asumiendo que los clientes están como columnas"
   ]
  },
  {
   "cell_type": "code",
   "execution_count": 5,
   "metadata": {},
   "outputs": [],
   "source": [
    "# Crear Lista de Clientes y Validación\n",
    "# Lista de clientes más el almacén al inicio y al final\n",
    "clientes = ['Almacén'] + df_location['Cliente'].tolist() + ['Almacén']\n",
    "\n",
    "# Validar pedidos individuales antes de asignarlos a vehículos\n",
    "def validate_clients(orders, vehicles):\n",
    "    for index, row in orders.iterrows():\n",
    "        if row['order_demand'] > vehicles['capacidad_kg'].max():\n",
    "            print(f\"El cliente {row['cliente']} tiene una demanda que excede la capacidad de todos los vehículos.\")\n",
    "            return False\n",
    "    return True\n",
    "\n",
    "if not validate_clients(df_orders, df_vehicle):\n",
    "    raise ValueError(\"Existen pedidos que no pueden ser atendidos por ningún vehículo.\")\n"
   ]
  },
  {
   "cell_type": "markdown",
   "metadata": {},
   "source": [
    "Definición de Funciones Auxiliares\n"
   ]
  },
  {
   "cell_type": "code",
   "execution_count": 6,
   "metadata": {},
   "outputs": [],
   "source": [
    "# Función para calcular el costo de una ruta considerando restricciones de carga y autonomía\n",
    "def calculate_cost(route, distances, orders, vehicle_capacity, vehicle_range, vehicle_cost_km):\n",
    "    total_distance = 0\n",
    "    total_load = 0\n",
    "    total_cost = 0\n",
    "\n",
    "    for i in range(len(route) - 1):\n",
    "        segment_distance = distances.loc[route[i], route[i+1]]\n",
    "\n",
    "        if segment_distance == 0 or total_distance + segment_distance > vehicle_range:\n",
    "            return float('inf')  # Ruta no viable por autonomía\n",
    "\n",
    "        total_distance += segment_distance\n",
    "\n",
    "        if route[i] != 'Almacén':  # Ignorar el almacén para la carga\n",
    "            order_row = orders.loc[orders['cliente'] == route[i], 'order_demand']\n",
    "            if not order_row.empty:\n",
    "                total_load += order_row.iloc[0]\n",
    "\n",
    "        if total_load > vehicle_capacity:\n",
    "            return float('inf')  # Ruta no viable por carga\n",
    "\n",
    "        total_cost += segment_distance * vehicle_cost_km\n",
    "\n",
    "    return total_cost\n",
    "\n",
    "# Función para generar una solución inicial aleatoria\n",
    "def generate_initial_solution(clientes):\n",
    "    solution = clientes[:]\n",
    "    random.shuffle(solution)\n",
    "    return solution\n",
    "\n",
    "# Función para obtener vecinos intercambiando dos elementos de la ruta\n",
    "def get_neighbors(route):\n",
    "    neighbors = []\n",
    "    if len(route) > 2:  # Asegura que hay más de un cliente además del almacén\n",
    "        for i in range(1, len(route)-1):\n",
    "            for j in range(i + 1, len(route)-1):\n",
    "                new_route = route[:]\n",
    "                new_route[i], new_route[j] = new_route[j], new_route[i]\n",
    "                neighbors.append(new_route)\n",
    "    return neighbors if neighbors else [route]  # Retorna la ruta actual si no hay vecinos\n",
    "\n",
    "# Función principal del algoritmo Hill Climbing\n",
    "def hill_climbing(clientes, distances, orders, vehicle_capacity, vehicle_range, vehicle_cost_km):\n",
    "    current_solution = generate_initial_solution(clientes)\n",
    "    current_cost = calculate_cost(current_solution, distances, orders, vehicle_capacity, vehicle_range, vehicle_cost_km)\n",
    "    \n",
    "    while True:\n",
    "        neighbors = get_neighbors(current_solution)\n",
    "        if not neighbors:\n",
    "            print(\"No hay vecinos posibles, terminando la optimización.\")\n",
    "            break\n",
    "        \n",
    "        next_solution = min(neighbors, key=lambda r: calculate_cost(r, distances, orders, vehicle_capacity, vehicle_range, vehicle_cost_km))\n",
    "        next_cost = calculate_cost(next_solution, distances, orders, vehicle_capacity, vehicle_range, vehicle_cost_km)\n",
    "        \n",
    "        if next_cost >= current_cost:\n",
    "            break\n",
    "        \n",
    "        current_solution, current_cost = next_solution, next_cost\n",
    "    \n",
    "    return current_solution, current_cost\n",
    "\n",
    "\n"
   ]
  },
  {
   "cell_type": "code",
   "execution_count": 7,
   "metadata": {},
   "outputs": [],
   "source": [
    "# Calcular el costo total de todas las subrutas de un vehículo\n",
    "def calculate_total_cost(subroutes, distances, vehicle_cost_km):\n",
    "    total_cost = 0\n",
    "    for subroute in subroutes:\n",
    "        subroute_cost = 0\n",
    "        for i in range(len(subroute) - 1):\n",
    "            segment_distance = distances.loc[subroute[i], subroute[i + 1]]\n",
    "            if segment_distance == 0.0:  # Conexión inválida\n",
    "                print(f\"Error: Distancia inválida entre {subroute[i]} y {subroute[i + 1]}.\")\n",
    "                return float('inf')  # Ruta inválida\n",
    "            subroute_cost += segment_distance * vehicle_cost_km\n",
    "        total_cost += subroute_cost\n",
    "    return total_cost\n"
   ]
  },
  {
   "cell_type": "code",
   "execution_count": 8,
   "metadata": {},
   "outputs": [],
   "source": [
    "# Dividir rutas basadas en restricciones de capacidad y autonomía\n",
    "def split_route_by_constraints(route, distances, orders, vehicle_capacity, vehicle_range):\n",
    "    subroutes = []\n",
    "    current_subroute = ['Almacén']\n",
    "    current_load = 0\n",
    "    current_distance = 0\n",
    "\n",
    "    for cliente in route:\n",
    "        if cliente == 'Almacén':\n",
    "            continue  # Ignorar el almacén dentro de la lógica\n",
    "        order_demand = orders.loc[orders['cliente'] == cliente, 'order_demand'].iloc[0]\n",
    "        last_stop = current_subroute[-1]\n",
    "        segment_distance = distances.loc[last_stop, cliente]\n",
    "\n",
    "        # Verificar si se exceden las restricciones de carga o autonomía\n",
    "        if (current_load + order_demand > vehicle_capacity or\n",
    "                current_distance + segment_distance > vehicle_range):\n",
    "            # Cierra la subruta y empieza una nueva\n",
    "            current_subroute.append('Almacén')\n",
    "            subroutes.append(current_subroute)\n",
    "            current_subroute = ['Almacén', cliente]\n",
    "            current_load = order_demand\n",
    "            current_distance = distances.loc['Almacén', cliente]\n",
    "        else:\n",
    "            current_subroute.append(cliente)\n",
    "            current_load += order_demand\n",
    "            current_distance += segment_distance\n",
    "\n",
    "    # Asegurarse de cerrar la última subruta\n",
    "    if current_subroute[-1] != 'Almacén':\n",
    "        current_subroute.append('Almacén')\n",
    "    subroutes.append(current_subroute)\n",
    "\n",
    "    return subroutes\n",
    "\n",
    "\n",
    "# Corregir subrutas con conexiones inválidas\n",
    "def correct_invalid_subroutes(subroute, distances):\n",
    "    corrected_subroutes = []\n",
    "    current_subroute = ['Almacén']\n",
    "    \n",
    "    for i in range(1, len(subroute)):\n",
    "        segment_distance = distances.loc[subroute[i - 1], subroute[i]]\n",
    "        \n",
    "        if segment_distance == 0.0:  # Conexión inválida\n",
    "            print(f\"Error: Distancia inválida entre {subroute[i - 1]} y {subroute[i]}. Dividiendo la subruta.\")\n",
    "            current_subroute.append('Almacén')\n",
    "            corrected_subroutes.append(current_subroute)\n",
    "            current_subroute = ['Almacén', subroute[i]]\n",
    "        else:\n",
    "            current_subroute.append(subroute[i])\n",
    "    \n",
    "    # Asegurarse de cerrar la última subruta\n",
    "    if current_subroute[-1] != 'Almacén':\n",
    "        current_subroute.append('Almacén')\n",
    "    corrected_subroutes.append(current_subroute)\n",
    "    \n",
    "    return corrected_subroutes\n",
    "\n",
    "\n"
   ]
  },
  {
   "cell_type": "code",
   "execution_count": 9,
   "metadata": {},
   "outputs": [
    {
     "name": "stdout",
     "output_type": "stream",
     "text": [
      "Error: Distancia inválida entre Cliente_7 y Cliente_13. Dividiendo la subruta.\n"
     ]
    }
   ],
   "source": [
    "# Agrupamiento de clientes usando K-Means\n",
    "num_vehicles = len(df_vehicle)\n",
    "kmeans = KMeans(n_clusters=num_vehicles, random_state=42, n_init=10)\n",
    "df_location['cluster'] = kmeans.fit_predict(df_location[['Latitud', 'Longitud']])\n",
    "\n",
    "vehicle_routes = {}\n",
    "vehicle_costs = {}\n",
    "\n",
    "for vehicle_id in range(num_vehicles):\n",
    "    cluster_customers = df_location[df_location['cluster'] == vehicle_id]['Cliente'].tolist() + ['Almacén']\n",
    "    vehicle_capacity = df_vehicle.iloc[vehicle_id]['capacidad_kg']\n",
    "    vehicle_range = df_vehicle.iloc[vehicle_id]['autonomia_km']\n",
    "    vehicle_cost_km = df_vehicle.iloc[vehicle_id]['costo_km']\n",
    "\n",
    "    # Optimización inicial de la ruta\n",
    "    optimal_route, _ = hill_climbing(\n",
    "        cluster_customers,\n",
    "        df_distance_km.set_index('CLIENTES'),\n",
    "        df_orders,\n",
    "        vehicle_capacity,\n",
    "        vehicle_range,\n",
    "        vehicle_cost_km\n",
    "    )\n",
    "\n",
    "    # Corregir conexiones inválidas\n",
    "    corrected_subroutes = correct_invalid_subroutes(\n",
    "        optimal_route,\n",
    "        df_distance_km.set_index('CLIENTES')\n",
    "    )\n",
    "\n",
    "    # Dividir cada subruta por restricciones\n",
    "    final_subroutes = []\n",
    "    for subroute in corrected_subroutes:\n",
    "        final_subroutes.extend(\n",
    "            split_route_by_constraints(\n",
    "                subroute,\n",
    "                df_distance_km.set_index('CLIENTES'),\n",
    "                df_orders,\n",
    "                vehicle_capacity,\n",
    "                vehicle_range\n",
    "            )\n",
    "        )\n",
    "\n",
    "    # Calcular el costo total de las subrutas finales\n",
    "    total_cost = calculate_total_cost(final_subroutes, df_distance_km.set_index('CLIENTES'), vehicle_cost_km)\n",
    "\n",
    "    vehicle_routes[vehicle_id] = final_subroutes\n",
    "    vehicle_costs[vehicle_id] = total_cost\n",
    "\n",
    "\n",
    "\n"
   ]
  },
  {
   "cell_type": "code",
   "execution_count": 10,
   "metadata": {},
   "outputs": [
    {
     "name": "stdout",
     "output_type": "stream",
     "text": [
      "Clientes no atendidos: {'Cliente_19', 'Cliente_10'}\n",
      "Creando nueva subruta para Cliente_19 en Vehículo 1.\n",
      "Reasignando Cliente_10 al Vehículo 1 en subruta existente.\n"
     ]
    }
   ],
   "source": [
    "# Identificar clientes no atendidos\n",
    "entregados = set(client for routes in vehicle_routes.values() for subroute in routes for client in subroute if client != 'Almacén')\n",
    "clientes_no_atendidos = set(df_orders['cliente']) - entregados\n",
    "\n",
    "if clientes_no_atendidos:\n",
    "    print(f\"Clientes no atendidos: {clientes_no_atendidos}\")\n",
    "    \n",
    "    # Redistribuir clientes no atendidos\n",
    "    for cliente in clientes_no_atendidos:\n",
    "        reasignado = False\n",
    "        for vehicle_id, routes in vehicle_routes.items():\n",
    "            # Verificar capacidad y autonomía disponibles\n",
    "            vehicle_capacity = df_vehicle.iloc[vehicle_id]['capacidad_kg']\n",
    "            vehicle_range = df_vehicle.iloc[vehicle_id]['autonomia_km']\n",
    "            vehicle_cost_km = df_vehicle.iloc[vehicle_id]['costo_km']\n",
    "            distances = df_distance_km.set_index('CLIENTES')\n",
    "            \n",
    "            # Verificar si el cliente puede ser agregado a alguna subruta existente\n",
    "            for subroute in routes:\n",
    "                subroute_cost = calculate_cost(\n",
    "                    subroute + [cliente, 'Almacén'], distances, df_orders, vehicle_capacity, vehicle_range, vehicle_cost_km\n",
    "                )\n",
    "                if subroute_cost < float('inf'):\n",
    "                    print(f\"Reasignando {cliente} al Vehículo {vehicle_id + 1} en subruta existente.\")\n",
    "                    subroute.insert(-1, cliente)  # Insertar el cliente antes del 'Almacén'\n",
    "                    reasignado = True\n",
    "                    break\n",
    "            \n",
    "            # Si no se reasignó a una subruta existente, crear una nueva subruta\n",
    "            if not reasignado:\n",
    "                print(f\"Creando nueva subruta para {cliente} en Vehículo {vehicle_id + 1}.\")\n",
    "                vehicle_routes[vehicle_id].append(['Almacén', cliente, 'Almacén'])\n",
    "                reasignado = True\n",
    "            \n",
    "            if reasignado:\n",
    "                break\n"
   ]
  },
  {
   "cell_type": "code",
   "execution_count": 11,
   "metadata": {},
   "outputs": [
    {
     "name": "stdout",
     "output_type": "stream",
     "text": [
      "{0: [['Almacén', 'Cliente_12', 'Cliente_18', 'Almacén'], ['Almacén', 'Cliente_19', 'Cliente_10', 'Almacén']], 1: [['Almacén', 'Cliente_14', 'Cliente_11', 'Cliente_4', 'Cliente_5', 'Almacén'], ['Almacén', 'Cliente_1', 'Cliente_17', 'Cliente_6', 'Cliente_16', 'Almacén'], ['Almacén', 'Cliente_9', 'Almacén']], 2: [['Almacén', 'Cliente_20', 'Almacén']], 3: [['Almacén', 'Cliente_7', 'Almacén'], ['Almacén', 'Cliente_13', 'Cliente_3', 'Cliente_2', 'Almacén']], 4: [['Almacén', 'Cliente_8', 'Cliente_15', 'Almacén']], 5: [['Almacén']]}\n",
      "{0: np.float64(5.730899999999999), 1: np.float64(7.316428), 2: np.float64(5.931280000000001), 3: np.float64(9.305592), 4: np.float64(13.584928), 5: 0}\n"
     ]
    }
   ],
   "source": [
    "print(vehicle_routes)\n",
    "print(vehicle_costs)\t"
   ]
  },
  {
   "cell_type": "code",
   "execution_count": 12,
   "metadata": {},
   "outputs": [
    {
     "name": "stdout",
     "output_type": "stream",
     "text": [
      "No hay vehículos con costos infinitos.\n"
     ]
    }
   ],
   "source": [
    "# Identificar vehículos con costos infinitos\n",
    "problematic_vehicles = [vehicle_id for vehicle_id, cost in vehicle_costs.items() if cost == float('inf')]\n",
    "\n",
    "# Mostrar cuáles vehículos tienen costos infinitos\n",
    "if problematic_vehicles:\n",
    "    print(f\"Vehículos con costos infinitos: {[v + 1 for v in problematic_vehicles]}\")\n",
    "else:\n",
    "    print(\"No hay vehículos con costos infinitos.\")\n"
   ]
  },
  {
   "cell_type": "code",
   "execution_count": 13,
   "metadata": {},
   "outputs": [
    {
     "name": "stdout",
     "output_type": "stream",
     "text": [
      "Vehículos sin entregas significativas: [6]\n",
      "Reasignando Cliente_12 al Vehículo 6.\n"
     ]
    }
   ],
   "source": [
    "# Asegurar que todos los vehículos realicen al menos una entrega\n",
    "vehicles_without_deliveries = [vid for vid, cost in vehicle_costs.items() if cost == 0]\n",
    "if vehicles_without_deliveries:\n",
    "    print(f\"Vehículos sin entregas significativas: {[v + 1 for v in vehicles_without_deliveries]}\")\n",
    "    \n",
    "    for vehicle_id in vehicles_without_deliveries:\n",
    "        for other_vehicle_id in vehicle_routes:\n",
    "            if other_vehicle_id != vehicle_id:\n",
    "                for subroute in vehicle_routes[other_vehicle_id]:\n",
    "                    for client in subroute:\n",
    "                        if client != 'Almacén':  # Evitar el almacén\n",
    "                            print(f\"Reasignando {client} al Vehículo {vehicle_id + 1}.\")\n",
    "                            \n",
    "                            # Crear una nueva subruta para el cliente reasignado\n",
    "                            vehicle_routes[vehicle_id] = [['Almacén', client, 'Almacén']]\n",
    "                            \n",
    "                            # Eliminar cliente de la subruta original\n",
    "                            subroute.remove(client)\n",
    "                            \n",
    "                            # Si la subruta queda vacía, eliminarla\n",
    "                            if len(subroute) <= 2:\n",
    "                                vehicle_routes[other_vehicle_id].remove(subroute)\n",
    "                            \n",
    "                            # Recalcular el costo para el vehículo\n",
    "                            vehicle_cost_km = df_vehicle.iloc[vehicle_id]['costo_km']\n",
    "                            distances = df_distance_km.set_index('CLIENTES')\n",
    "                            vehicle_costs[vehicle_id] = calculate_total_cost(vehicle_routes[vehicle_id], distances, vehicle_cost_km)\n",
    "                            break\n",
    "                    if vehicle_costs[vehicle_id] > 0:\n",
    "                        break\n",
    "            if vehicle_costs[vehicle_id] > 0:\n",
    "                break\n",
    "\n"
   ]
  },
  {
   "cell_type": "code",
   "execution_count": 14,
   "metadata": {},
   "outputs": [],
   "source": [
    "# Corregir subrutas con costos infinitos\n",
    "problematic_vehicles = [vehicle_id for vehicle_id, cost in vehicle_costs.items() if cost == float('inf')]\n",
    "for vehicle_id in problematic_vehicles:\n",
    "    print(f\"Corrigiendo subrutas para el Vehículo {vehicle_id + 1}...\")\n",
    "    \n",
    "    corrected_subroutes = []\n",
    "    distances = df_distance_km.set_index('CLIENTES')\n",
    "    vehicle_capacity = df_vehicle.iloc[vehicle_id]['capacidad_kg']\n",
    "    vehicle_range = df_vehicle.iloc[vehicle_id]['autonomia_km']\n",
    "\n",
    "    for subroute in vehicle_routes[vehicle_id]:\n",
    "        corrected_subroutes.extend(\n",
    "            split_route_by_constraints(\n",
    "                subroute,\n",
    "                distances,\n",
    "                df_orders,\n",
    "                vehicle_capacity,\n",
    "                vehicle_range\n",
    "            )\n",
    "        )\n",
    "\n",
    "    # Actualizar las subrutas corregidas para el vehículo\n",
    "    vehicle_routes[vehicle_id] = corrected_subroutes\n",
    "\n",
    "    # Recalcular el costo total para las subrutas corregidas\n",
    "    vehicle_cost_km = df_vehicle.iloc[vehicle_id]['costo_km']\n",
    "    total_cost = calculate_total_cost(corrected_subroutes, distances, vehicle_cost_km)\n",
    "    vehicle_costs[vehicle_id] = total_cost\n",
    "\n",
    "    print(f\"Subrutas Corregidas para el Vehículo {vehicle_id + 1}:\")\n",
    "    for idx, subroute in enumerate(corrected_subroutes, 1):\n",
    "        print(f\"  Subruta {idx}: {' -> '.join(subroute)}\")\n",
    "    print(f\"Costo Total Corregido: {total_cost}\")\n",
    "\n"
   ]
  },
  {
   "cell_type": "code",
   "execution_count": 15,
   "metadata": {},
   "outputs": [
    {
     "name": "stdout",
     "output_type": "stream",
     "text": [
      "Vehículo 1:\n",
      "  Subruta 1: Almacén -> Cliente_18 -> Almacén\n",
      "  Subruta 2: Almacén -> Cliente_19 -> Cliente_10 -> Almacén\n",
      "Costo Total: 5.730899999999999\n",
      "\n",
      "\n",
      "Vehículo 2:\n",
      "  Subruta 1: Almacén -> Cliente_14 -> Cliente_11 -> Cliente_4 -> Cliente_5 -> Almacén\n",
      "  Subruta 2: Almacén -> Cliente_1 -> Cliente_17 -> Cliente_6 -> Cliente_16 -> Almacén\n",
      "  Subruta 3: Almacén -> Cliente_9 -> Almacén\n",
      "Costo Total: 7.316428\n",
      "\n",
      "\n",
      "Vehículo 3:\n",
      "  Subruta 1: Almacén -> Cliente_20 -> Almacén\n",
      "Costo Total: 5.931280000000001\n",
      "\n",
      "\n",
      "Vehículo 4:\n",
      "  Subruta 1: Almacén -> Cliente_7 -> Almacén\n",
      "  Subruta 2: Almacén -> Cliente_13 -> Cliente_3 -> Cliente_2 -> Almacén\n",
      "Costo Total: 9.305592\n",
      "\n",
      "\n",
      "Vehículo 5:\n",
      "  Subruta 1: Almacén -> Cliente_8 -> Cliente_15 -> Almacén\n",
      "Costo Total: 13.584928\n",
      "\n",
      "\n",
      "Vehículo 6:\n",
      "  Subruta 1: Almacén -> Cliente_12 -> Almacén\n",
      "Costo Total: 2.866472\n",
      "\n",
      "\n"
     ]
    }
   ],
   "source": [
    "# Mostrar las rutas óptimas y los costos mínimos para cada vehículo\n",
    "for vehicle_id in vehicle_routes:\n",
    "    print(f\"Vehículo {vehicle_id + 1}:\")\n",
    "    for idx, subroute in enumerate(vehicle_routes[vehicle_id], 1):\n",
    "        print(f\"  Subruta {idx}: {' -> '.join(subroute)}\")\n",
    "    print(\"Costo Total:\", vehicle_costs[vehicle_id])\n",
    "    print(\"\\n\")\n"
   ]
  },
  {
   "cell_type": "code",
   "execution_count": 16,
   "metadata": {},
   "outputs": [
    {
     "name": "stdout",
     "output_type": "stream",
     "text": [
      "Todos los clientes están atendidos.\n"
     ]
    }
   ],
   "source": [
    "# Validar que todos los clientes están cubiertos\n",
    "entregados = set(client for routes in vehicle_routes.values() for subroute in routes for client in subroute if client != 'Almacén')\n",
    "clientes_pendientes = set(df_orders['cliente']) - entregados\n",
    "\n",
    "if clientes_pendientes:\n",
    "    print(f\"Clientes no atendidos: {clientes_pendientes}\")\n",
    "else:\n",
    "    print(\"Todos los clientes están atendidos.\")\n",
    "\n",
    "# Validar restricciones de capacidad y autonomía\n",
    "for vehicle_id, routes in vehicle_routes.items():\n",
    "    vehicle_capacity = df_vehicle.iloc[vehicle_id]['capacidad_kg']\n",
    "    vehicle_range = df_vehicle.iloc[vehicle_id]['autonomia_km']\n",
    "    distances = df_distance_km.set_index('CLIENTES')\n",
    "    \n",
    "    for subroute in routes:\n",
    "        carga_total = sum(df_orders.loc[df_orders['cliente'] == client, 'order_demand'].iloc[0] for client in subroute if client != 'Almacén')\n",
    "        distancia_total = sum(distances.loc[subroute[i], subroute[i+1]] for i in range(len(subroute)-1))\n",
    "        \n",
    "        if carga_total > vehicle_capacity:\n",
    "            print(f\"Advertencia: El Vehículo {vehicle_id + 1} excede su capacidad en la subruta {subroute}.\")\n",
    "        if distancia_total > vehicle_range:\n",
    "            print(f\"Advertencia: El Vehículo {vehicle_id + 1} excede su autonomía en la subruta {subroute}.\")\n"
   ]
  },
  {
   "cell_type": "markdown",
   "metadata": {},
   "source": [
    "Representación Gráfica"
   ]
  },
  {
   "cell_type": "code",
   "execution_count": 17,
   "metadata": {},
   "outputs": [],
   "source": [
    "import matplotlib.pyplot as plt"
   ]
  },
  {
   "cell_type": "code",
   "execution_count": 18,
   "metadata": {},
   "outputs": [
    {
     "data": {
      "image/png": "[encoded data removed]",
      "text/plain": [
       "<Figure size 1200x800 with 1 Axes>"
      ]
     },
     "metadata": {},
     "output_type": "display_data"
    }
   ],
   "source": [
    "# Crear representación gráfica de las rutas\n",
    "def plot_routes(vehicle_routes, df_location):\n",
    "    plt.figure(figsize=(12, 8))\n",
    "    colors = ['r', 'g', 'b', 'y', 'm', 'c', 'orange', 'purple']\n",
    "\n",
    "    # Dibujar las rutas de cada vehículo\n",
    "    for vehicle_id, routes in vehicle_routes.items():\n",
    "        for subroute in routes:\n",
    "            x_coords = [df_location[df_location['Cliente'] == client]['Longitud'].iloc[0] for client in subroute if client != 'Almacén']\n",
    "            y_coords = [df_location[df_location['Cliente'] == client]['Latitud'].iloc[0] for client in subroute if client != 'Almacén']\n",
    "            \n",
    "            # Agregar las coordenadas del almacén\n",
    "            x_coords = [df_location[df_location['Cliente'] == 'Almacén']['Longitud'].iloc[0]] + x_coords + [df_location[df_location['Cliente'] == 'Almacén']['Longitud'].iloc[0]]\n",
    "            y_coords = [df_location[df_location['Cliente'] == 'Almacén']['Latitud'].iloc[0]] + y_coords + [df_location[df_location['Cliente'] == 'Almacén']['Latitud'].iloc[0]]\n",
    "            \n",
    "            plt.plot(x_coords, y_coords, marker='o', label=f'Vehículo {vehicle_id + 1}', color=colors[vehicle_id % len(colors)])\n",
    "    \n",
    "    # Añadir detalles al gráfico\n",
    "    plt.title(\"Rutas de Entrega por Vehículo\")\n",
    "    plt.xlabel(\"Longitud\")\n",
    "    plt.ylabel(\"Latitud\")\n",
    "    plt.legend()\n",
    "    plt.grid(True)\n",
    "    plt.show()\n",
    "\n",
    "# Llamar a la función para graficar\n",
    "plot_routes(vehicle_routes, df_location)\n"
   ]
  },
  {
   "cell_type": "markdown",
   "metadata": {},
   "source": [
    "Código para Generar Mapas"
   ]
  },
  {
   "cell_type": "code",
   "execution_count": 21,
   "metadata": {},
   "outputs": [],
   "source": [
    "import folium"
   ]
  },
  {
   "cell_type": "code",
   "execution_count": 24,
   "metadata": {},
   "outputs": [
    {
     "name": "stdout",
     "output_type": "stream",
     "text": [
      "Mapa generado y guardado como 'mapa_rutas_hill_climbing.html'.\n"
     ]
    }
   ],
   "source": [
    "#Generar Mapas Interactivos\t\n",
    "def generate_route_map(vehicle_routes, df_location):\n",
    "    # Crear un mapa centrado en la ubicación del almacén\n",
    "    almacen_coords = df_location[df_location['Cliente'] == 'Almacén'][['Latitud', 'Longitud']].iloc[0]\n",
    "    route_map = folium.Map(location=[almacen_coords['Latitud'], almacen_coords['Longitud']], zoom_start=12)\n",
    "\n",
    "    # Colores para las rutas de los vehículos\n",
    "    colors = ['red', 'blue', 'green', 'purple', 'orange', 'darkred', 'darkblue', 'darkgreen']\n",
    "    \n",
    "    # Dibujar rutas para cada vehículo\n",
    "    for vehicle_id, routes in vehicle_routes.items():\n",
    "        color = colors[vehicle_id % len(colors)]\n",
    "        for subroute in routes:\n",
    "            # Coordenadas de los clientes en la subruta\n",
    "            subroute_coords = [\n",
    "                (df_location[df_location['Cliente'] == client]['Latitud'].iloc[0], \n",
    "                 df_location[df_location['Cliente'] == client]['Longitud'].iloc[0])\n",
    "                for client in subroute\n",
    "            ]\n",
    "            # Añadir la subruta al mapa\n",
    "            folium.PolyLine(subroute_coords, color=color, weight=5, opacity=0.8).add_to(route_map)\n",
    "            \n",
    "            # Añadir marcadores para cada cliente en la subruta\n",
    "            for client in subroute:\n",
    "                client_coords = df_location[df_location['Cliente'] == client][['Latitud', 'Longitud']].iloc[0]\n",
    "                folium.Marker(\n",
    "                    location=[client_coords['Latitud'], client_coords['Longitud']],\n",
    "                    popup=f'{client} (Vehículo {vehicle_id + 1})',\n",
    "                    icon=folium.Icon(color=color)\n",
    "                ).add_to(route_map)\n",
    "    \n",
    "    # Guardar el mapa en un archivo HTML\n",
    "    route_map.save(\"mapa_rutas_hill_climbing.html\")\n",
    "    print(\"Mapa generado y guardado como 'mapa_rutas_hill_climbing.html'.\")\n",
    "\n",
    "# Generar el mapa\n",
    "generate_route_map(vehicle_routes, df_location)\n"
   ]
  }
 ],
 "metadata": {
  "kernelspec": {
   "display_name": "Python 3",
   "language": "python",
   "name": "python3"
  },
  "language_info": {
   "codemirror_mode": {
    "name": "ipython",
    "version": 3
   },
   "file_extension": ".py",
   "mimetype": "text/x-python",
   "name": "python",
   "nbconvert_exporter": "python",
   "pygments_lexer": "ipython3",
   "version": "3.13.0"
  }
 },
 "nbformat": 4,
 "nbformat_minor": 2
}
