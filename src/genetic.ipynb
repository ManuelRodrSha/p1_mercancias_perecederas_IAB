{
 "cells": [
  {
   "cell_type": "code",
   "execution_count": 2,
   "metadata": {},
   "outputs": [],
   "source": [
    "import numpy as np\n",
    "import random\n",
    "import math\n",
    "import pandas as pd"
   ]
  },
  {
   "cell_type": "code",
   "execution_count": 3,
   "metadata": {},
   "outputs": [],
   "source": [
    "# Cargar los datos de Excel\n",
    "df_distance_km = pd.read_excel('../dataset/df_distance_km.xlsx')\n",
    "df_distance_min = pd.read_excel('../dataset/df_distance_min.xlsx')\n",
    "df_historic_order_demand = pd.read_excel('../dataset/df_historic_order_demand.xlsx')\n",
    "df_location = pd.read_excel('../dataset/df_location.xlsx')\n",
    "df_orders = pd.read_excel('../dataset/df_orders.xlsx')\n",
    "df_vehicle = pd.read_excel('../dataset/df_vehicle.xlsx')\n"
   ]
  },
  {
   "cell_type": "code",
   "execution_count": null,
   "metadata": {},
   "outputs": [
    {
     "name": "stdout",
     "output_type": "stream",
     "text": [
      "   Cliente_1  Cliente_2  Cliente_3  Cliente_4  Cliente_5  Cliente_6  \\\n",
      "0        0.0     7.5625    15.5365     1.1998     4.7145     1.7407   \n",
      "\n",
      "   Cliente_7  Cliente_8  Cliente_9  Cliente_10  ...  Cliente_12  Cliente_13  \\\n",
      "0     7.9408    17.1947     4.2933      3.2659  ...      6.0225       5.447   \n",
      "\n",
      "   Cliente_14  Cliente_15  Cliente_16  Cliente_17  Cliente_18  Cliente_19  \\\n",
      "0      2.2133     11.1505      1.5775     10.8288      9.1456     20.4871   \n",
      "\n",
      "   Cliente_20  Almacén  \n",
      "0     22.1445   3.6114  \n",
      "\n",
      "[1 rows x 21 columns]\n",
      "   Cliente_1  Cliente_2  Cliente_3  Cliente_4  Cliente_5  Cliente_6  \\\n",
      "0        0.0  15.731667  19.651667   2.543333       7.55       3.76   \n",
      "\n",
      "   Cliente_7  Cliente_8  Cliente_9  Cliente_10  ...  Cliente_12  Cliente_13  \\\n",
      "0  15.838333  22.388333   8.563333       7.185  ...   10.028333   12.336667   \n",
      "\n",
      "   Cliente_14  Cliente_15  Cliente_16  Cliente_17  Cliente_18  Cliente_19  \\\n",
      "0    5.098333      17.525    2.943333   15.548333      15.105      23.855   \n",
      "\n",
      "   Cliente_20  Almacén  \n",
      "0        23.7    6.905  \n",
      "\n",
      "[1 rows x 21 columns]\n",
      "     cliente mes_anio  order_demand\n",
      "0  Cliente_1  12-2020         857.0\n",
      "     Cliente    Latitud  Longitud\n",
      "0  Cliente_1  40.402828 -3.696878\n",
      "     cliente mes_anio  order_demand\n",
      "0  Cliente_1  12-2024           909\n",
      "   vehiculo_id  capacidad_kg  costo_km  autonomia_km\n",
      "0            1          2026       0.2           603\n"
     ]
    }
   ],
   "source": [
    "# Ver los primeros registros para asegurarnos que todo se cargó correctamente\n",
    "print(df_distance_km.head())\n",
    "print(df_distance_min.head())\n",
    "print(df_historic_order_demand.head())\n",
    "print(df_location.head())\n",
    "print(df_orders.head())\n",
    "print(df_vehicle.head())"
   ]
  },
  {
   "cell_type": "code",
   "execution_count": null,
   "metadata": {},
   "outputs": [],
   "source": []
  }
 ],
 "metadata": {
  "kernelspec": {
   "display_name": "Python 3",
   "language": "python",
   "name": "python3"
  },
  "language_info": {
   "codemirror_mode": {
    "name": "ipython",
    "version": 3
   },
   "file_extension": ".py",
   "mimetype": "text/x-python",
   "name": "python",
   "nbconvert_exporter": "python",
   "pygments_lexer": "ipython3",
   "version": "3.12.2"
  }
 },
 "nbformat": 4,
 "nbformat_minor": 2
}
